{
  "nbformat": 4,
  "nbformat_minor": 0,
  "metadata": {
    "colab": {
      "provenance": []
    },
    "kernelspec": {
      "name": "python3",
      "display_name": "Python 3"
    },
    "language_info": {
      "name": "python"
    }
  },
  "cells": [
    {
      "cell_type": "code",
      "execution_count": 11,
      "metadata": {
        "colab": {
          "base_uri": "https://localhost:8080/"
        },
        "id": "mW9g8BsE5utv",
        "outputId": "eece1ef4-e20f-4e27-8db9-0686b8054240"
      },
      "outputs": [
        {
          "output_type": "execute_result",
          "data": {
            "text/plain": [
              "3.3333333333333335"
            ]
          },
          "metadata": {},
          "execution_count": 11
        }
      ],
      "source": [
        "# Data Science Tools and Ecosystem\n",
        "\n",
        "In this notebook, Data Science Tools and Ecosystem are summarized\n",
        "\n",
        "**Objectives:**\n",
        "- List popular languages for Data Science.\n",
        "- Identify common Data Science libraries.\n",
        "- Use Markdown for formatting in Jupyter Notebooks.\n",
        "- Perform simple arithmetic expressions in Python.\n",
        "\n",
        "Some of the popular languages that Data Scientists use are:\n",
        "1. Python\n",
        "2. R\n",
        "3. SQL\n",
        "\n",
        "Some of the commonly used libraries used by Data Scientists include:\n",
        "1. Pandas\n",
        "2. NumPy\n",
        "3. Scikit-Learn\n",
        "\n",
        "| Data Science Tools |\n",
        "|--------------------|\n",
        "| Jupyter Notebook  |\n",
        "| RStudio          |\n",
        "| Spyder           |\n",
        "\n",
        "### Below are a few examples of evaluating arithmetic expressions in Python\n",
        "\n",
        "# This is a simple arithmetic expression to multiply then add integers\n",
        "(3 * 4) + 5\n",
        "\n",
        "# This will convert 200 minutes to hours by dividing by 60\n",
        "200 / 60\n",
        "\n",
        "## Author\n",
        "Emil Chavez\n",
        "\n"
      ]
    }
  ]
}